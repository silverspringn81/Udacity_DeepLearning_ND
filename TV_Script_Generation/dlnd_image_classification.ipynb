{
 "cells": [
  {
   "cell_type": "markdown",
   "metadata": {
    "collapsed": true,
    "deletable": true,
    "editable": true
   },
   "source": [
    "# Image Classification\n",
    "In this project, you'll classify images from the [CIFAR-10 dataset](https://www.cs.toronto.edu/~kriz/cifar.html).  The dataset consists of airplanes, dogs, cats, and other objects. You'll preprocess the images, then train a convolutional neural network on all the samples. The images need to be normalized and the labels need to be one-hot encoded.  You'll get to apply what you learned and build a convolutional, max pooling, dropout, and fully connected layers.  At the end, you'll get to see your neural network's predictions on the sample images.\n",
    "## Get the Data\n",
    "Run the following cell to download the [CIFAR-10 dataset for python](https://www.cs.toronto.edu/~kriz/cifar-10-python.tar.gz)."
   ]
  },
  {
   "cell_type": "code",
   "execution_count": 1,
   "metadata": {
    "collapsed": false,
    "deletable": true,
    "editable": true
   },
   "outputs": [
    {
     "name": "stdout",
     "output_type": "stream",
     "text": [
      "All files found!\n"
     ]
    }
   ],
   "source": [
    "\"\"\"\n",
    "DON'T MODIFY ANYTHING IN THIS CELL THAT IS BELOW THIS LINE\n",
    "\"\"\"\n",
    "from urllib.request import urlretrieve\n",
    "from os.path import isfile, isdir\n",
    "from tqdm import tqdm\n",
    "import problem_unittests as tests\n",
    "import tarfile\n",
    "\n",
    "cifar10_dataset_folder_path = 'cifar-10-batches-py'\n",
    "\n",
    "# Use Floyd's cifar-10 dataset if present\n",
    "floyd_cifar10_location = '/input/cifar-10/python.tar.gz'\n",
    "if isfile(floyd_cifar10_location):\n",
    "    tar_gz_path = floyd_cifar10_location\n",
    "else:\n",
    "    tar_gz_path = 'cifar-10-python.tar.gz'\n",
    "\n",
    "class DLProgress(tqdm):\n",
    "    last_block = 0\n",
    "\n",
    "    def hook(self, block_num=1, block_size=1, total_size=None):\n",
    "        self.total = total_size\n",
    "        self.update((block_num - self.last_block) * block_size)\n",
    "        self.last_block = block_num\n",
    "\n",
    "if not isfile(tar_gz_path):\n",
    "    with DLProgress(unit='B', unit_scale=True, miniters=1, desc='CIFAR-10 Dataset') as pbar:\n",
    "        urlretrieve(\n",
    "            'https://www.cs.toronto.edu/~kriz/cifar-10-python.tar.gz',\n",
    "            tar_gz_path,\n",
    "            pbar.hook)\n",
    "\n",
    "if not isdir(cifar10_dataset_folder_path):\n",
    "    with tarfile.open(tar_gz_path) as tar:\n",
    "        tar.extractall()\n",
    "        tar.close()\n",
    "\n",
    "\n",
    "tests.test_folder_path(cifar10_dataset_folder_path)"
   ]
  },
  {
   "cell_type": "markdown",
   "metadata": {
    "deletable": true,
    "editable": true
   },
   "source": [
    "## Explore the Data\n",
    "The dataset is broken into batches to prevent your machine from running out of memory.  The CIFAR-10 dataset consists of 5 batches, named `data_batch_1`, `data_batch_2`, etc.. Each batch contains the labels and images that are one of the following:\n",
    "* airplane\n",
    "* automobile\n",
    "* bird\n",
    "* cat\n",
    "* deer\n",
    "* dog\n",
    "* frog\n",
    "* horse\n",
    "* ship\n",
    "* truck\n",
    "\n",
    "Understanding a dataset is part of making predictions on the data.  Play around with the code cell below by changing the `batch_id` and `sample_id`. The `batch_id` is the id for a batch (1-5). The `sample_id` is the id for a image and label pair in the batch.\n",
    "\n",
    "Ask yourself \"What are all possible labels?\", \"What is the range of values for the image data?\", \"Are the labels in order or random?\".  Answers to questions like these will help you preprocess the data and end up with better predictions."
   ]
  },
  {
   "cell_type": "code",
   "execution_count": 2,
   "metadata": {
    "collapsed": false,
    "deletable": true,
    "editable": true
   },
   "outputs": [
    {
     "name": "stdout",
     "output_type": "stream",
     "text": [
      "\n",
      "Stats of batch 5:\n",
      "Samples: 10000\n",
      "Label Counts: {0: 1014, 1: 1014, 2: 952, 3: 1016, 4: 997, 5: 1025, 6: 980, 7: 977, 8: 1003, 9: 1022}\n",
      "First 20 Labels: [1, 8, 5, 1, 5, 7, 4, 3, 8, 2, 7, 2, 0, 1, 5, 9, 6, 2, 0, 8]\n",
      "\n",
      "Example of Image 4:\n",
      "Image - Min Value: 2 Max Value: 248\n",
      "Image - Shape: (32, 32, 3)\n",
      "Label - Label Id: 5 Name: dog\n"
     ]
    },
    {
     "data": {
      "image/png": "[encoded data removed]",
      "text/plain": [
       "<matplotlib.figure.Figure at 0x7f559429e828>"
      ]
     },
     "metadata": {
      "image/png": {
       "height": 250,
       "width": 253
      }
     },
     "output_type": "display_data"
    }
   ],
   "source": [
    "%matplotlib inline\n",
    "%config InlineBackend.figure_format = 'retina'\n",
    "\n",
    "import helper\n",
    "import numpy as np\n",
    "\n",
    "# Explore the dataset\n",
    "batch_id = 5\n",
    "sample_id = 4\n",
    "helper.display_stats(cifar10_dataset_folder_path, batch_id, sample_id)"
   ]
  },
  {
   "cell_type": "markdown",
   "metadata": {
    "deletable": true,
    "editable": true
   },
   "source": [
    "### Note. Overview of image data\n",
    "\n",
    "**1. Samples in each batch (1-5)** :  10000\n",
    "\n",
    "**2. Labels (0-9) and label counts are random in each batch**  \n",
    "0:  airplane, 1: automobile, 2:  bird, 3: cat, 4: deer, 5: dog, 6: frog, 7: horse, 8: ship, 9: truck\n",
    "\n",
    "**3. Image shape** : (32, 32, 3)\n",
    "\n",
    "**4. Range of values for the image data** : 0-255"
   ]
  },
  {
   "cell_type": "markdown",
   "metadata": {
    "deletable": true,
    "editable": true
   },
   "source": [
    "## Implement Preprocess Functions\n",
    "### Normalize\n",
    "In the cell below, implement the `normalize` function to take in image data, `x`, and return it as a normalized Numpy array. The values should be in the range of 0 to 1, inclusive.  The return object should be the same shape as `x`."
   ]
  },
  {
   "cell_type": "code",
   "execution_count": 3,
   "metadata": {
    "collapsed": false,
    "deletable": true,
    "editable": true
   },
   "outputs": [
    {
     "name": "stdout",
     "output_type": "stream",
     "text": [
      "Tests Passed\n"
     ]
    }
   ],
   "source": [
    "def normalize(x):\n",
    "    \"\"\"\n",
    "    Normalize a list of sample image data in the range of 0 to 1\n",
    "    : x: List of image data.  The image shape is (32, 32, 3)\n",
    "    : return: Numpy array of normalize data\n",
    "    \"\"\"\n",
    "    # TODO: Implement Function\n",
    "    #  Value range for the image data is 0-255\n",
    "    return x / 255.\n",
    "\n",
    "\n",
    "\"\"\"\n",
    "DON'T MODIFY ANYTHING IN THIS CELL THAT IS BELOW THIS LINE\n",
    "\"\"\"\n",
    "tests.test_normalize(normalize)"
   ]
  },
  {
   "cell_type": "markdown",
   "metadata": {
    "deletable": true,
    "editable": true
   },
   "source": [
    "### One-hot encode\n",
    "Just like the previous code cell, you'll be implementing a function for preprocessing.  This time, you'll implement the `one_hot_encode` function. The input, `x`, are a list of labels.  Implement the function to return the list of labels as One-Hot encoded Numpy array.  The possible values for labels are 0 to 9. The one-hot encoding function should return the same encoding for each value between each call to `one_hot_encode`.  Make sure to save the map of encodings outside the function.\n",
    "\n",
    "Hint: Don't reinvent the wheel."
   ]
  },
  {
   "cell_type": "code",
   "execution_count": 4,
   "metadata": {
    "collapsed": false,
    "deletable": true,
    "editable": true
   },
   "outputs": [
    {
     "name": "stdout",
     "output_type": "stream",
     "text": [
      "Tests Passed\n"
     ]
    }
   ],
   "source": [
    "from sklearn import preprocessing\n",
    "n_classes = 10 # Number of classes (0-9)\n",
    "lb = preprocessing.LabelBinarizer()\n",
    "lb.fit(range(n_classes)) # map of encodings\n",
    "\n",
    "def one_hot_encode(x):\n",
    "    \"\"\"\n",
    "    One hot encode a list of sample labels. Return a one-hot encoded vector for each label.\n",
    "    : x: List of sample Labels\n",
    "    : return: Numpy array of one-hot encoded labels\n",
    "    \"\"\"\n",
    "    # TODO: Implement Function\n",
    "    return lb.transform(x)\n",
    "\n",
    "\"\"\"\n",
    "DON'T MODIFY ANYTHING IN THIS CELL THAT IS BELOW THIS LINE\n",
    "\"\"\"\n",
    "tests.test_one_hot_encode(one_hot_encode)"
   ]
  },
  {
   "cell_type": "markdown",
   "metadata": {
    "deletable": true,
    "editable": true
   },
   "source": [
    "### Randomize Data\n",
    "As you saw from exploring the data above, the order of the samples are randomized.  It doesn't hurt to randomize it again, but you don't need to for this dataset."
   ]
  },
  {
   "cell_type": "markdown",
   "metadata": {
    "deletable": true,
    "editable": true
   },
   "source": [
    "## Preprocess all the data and save it\n",
    "Running the code cell below will preprocess all the CIFAR-10 data and save it to file. The code below also uses 10% of the training data for validation."
   ]
  },
  {
   "cell_type": "code",
   "execution_count": 5,
   "metadata": {
    "collapsed": true,
    "deletable": true,
    "editable": true
   },
   "outputs": [],
   "source": [
    "\"\"\"\n",
    "DON'T MODIFY ANYTHING IN THIS CELL\n",
    "\"\"\"\n",
    "# Preprocess Training, Validation, and Testing Data\n",
    "helper.preprocess_and_save_data(cifar10_dataset_folder_path, normalize, one_hot_encode)"
   ]
  },
  {
   "cell_type": "markdown",
   "metadata": {
    "deletable": true,
    "editable": true
   },
   "source": [
    "# Check Point\n",
    "This is your first checkpoint.  If you ever decide to come back to this notebook or have to restart the notebook, you can start from here.  The preprocessed data has been saved to disk."
   ]
  },
  {
   "cell_type": "code",
   "execution_count": 6,
   "metadata": {
    "collapsed": false,
    "deletable": true,
    "editable": true
   },
   "outputs": [],
   "source": [
    "\"\"\"\n",
    "DON'T MODIFY ANYTHING IN THIS CELL\n",
    "\"\"\"\n",
    "import pickle\n",
    "import problem_unittests as tests\n",
    "import helper\n",
    "\n",
    "# Load the Preprocessed Validation data\n",
    "valid_features, valid_labels = pickle.load(open('preprocess_validation.p', mode='rb'))"
   ]
  },
  {
   "cell_type": "markdown",
   "metadata": {
    "deletable": true,
    "editable": true
   },
   "source": [
    "## Build the network\n",
    "For the neural network, you'll build each layer into a function.  Most of the code you've seen has been outside of functions. To test your code more thoroughly, we require that you put each layer in a function.  This allows us to give you better feedback and test for simple mistakes using our unittests before you submit your project.\n",
    "\n",
    ">**Note:** If you're finding it hard to dedicate enough time for this course each week, we've provided a small shortcut to this part of the project. In the next couple of problems, you'll have the option to use classes from the [TensorFlow Layers](https://www.tensorflow.org/api_docs/python/tf/layers) or [TensorFlow Layers (contrib)](https://www.tensorflow.org/api_guides/python/contrib.layers) packages to build each layer, except the layers you build in the \"Convolutional and Max Pooling Layer\" section.  TF Layers is similar to Keras's and TFLearn's abstraction to layers, so it's easy to pickup.\n",
    "\n",
    ">However, if you would like to get the most out of this course, try to solve all the problems _without_ using anything from the TF Layers packages. You **can** still use classes from other packages that happen to have the same name as ones you find in TF Layers! For example, instead of using the TF Layers version of the `conv2d` class, [tf.layers.conv2d](https://www.tensorflow.org/api_docs/python/tf/layers/conv2d), you would want to use the TF Neural Network version of `conv2d`, [tf.nn.conv2d](https://www.tensorflow.org/api_docs/python/tf/nn/conv2d). \n",
    "\n",
    "Let's begin!\n",
    "\n",
    "### Input\n",
    "The neural network needs to read the image data, one-hot encoded labels, and dropout keep probability. Implement the following functions\n",
    "* Implement `neural_net_image_input`\n",
    " * Return a [TF Placeholder](https://www.tensorflow.org/api_docs/python/tf/placeholder)\n",
    " * Set the shape using `image_shape` with batch size set to `None`.\n",
    " * Name the TensorFlow placeholder \"x\" using the TensorFlow `name` parameter in the [TF Placeholder](https://www.tensorflow.org/api_docs/python/tf/placeholder).\n",
    "* Implement `neural_net_label_input`\n",
    " * Return a [TF Placeholder](https://www.tensorflow.org/api_docs/python/tf/placeholder)\n",
    " * Set the shape using `n_classes` with batch size set to `None`.\n",
    " * Name the TensorFlow placeholder \"y\" using the TensorFlow `name` parameter in the [TF Placeholder](https://www.tensorflow.org/api_docs/python/tf/placeholder).\n",
    "* Implement `neural_net_keep_prob_input`\n",
    " * Return a [TF Placeholder](https://www.tensorflow.org/api_docs/python/tf/placeholder) for dropout keep probability.\n",
    " * Name the TensorFlow placeholder \"keep_prob\" using the TensorFlow `name` parameter in the [TF Placeholder](https://www.tensorflow.org/api_docs/python/tf/placeholder).\n",
    "\n",
    "These names will be used at the end of the project to load your saved model.\n",
    "\n",
    "Note: `None` for shapes in TensorFlow allow for a dynamic size."
   ]
  },
  {
   "cell_type": "code",
   "execution_count": 7,
   "metadata": {
    "collapsed": false,
    "deletable": true,
    "editable": true
   },
   "outputs": [
    {
     "name": "stdout",
     "output_type": "stream",
     "text": [
      "Image Input Tests Passed.\n",
      "Label Input Tests Passed.\n",
      "Keep Prob Tests Passed.\n"
     ]
    }
   ],
   "source": [
    "import tensorflow as tf\n",
    "\n",
    "def neural_net_image_input(image_shape):\n",
    "    \"\"\"\n",
    "    Return a Tensor for a bach of image input\n",
    "    : image_shape: Shape of the images\n",
    "    : return: Tensor for image input.\n",
    "    \"\"\"\n",
    "    # TODO: Implement Function\n",
    "    return tf.placeholder(tf.float32, shape=(None, *image_shape), name='x')\n",
    "\n",
    "\n",
    "def neural_net_label_input(n_classes):\n",
    "    \"\"\"\n",
    "    Return a Tensor for a batch of label input\n",
    "    : n_classes: Number of classes\n",
    "    : return: Tensor for label input.\n",
    "    \"\"\"\n",
    "    # TODO: Implement Function\n",
    "    return tf.placeholder(tf.float32, shape=(None, n_classes), name='y')\n",
    "\n",
    "\n",
    "def neural_net_keep_prob_input():\n",
    "    \"\"\"\n",
    "    Return a Tensor for keep probability\n",
    "    : return: Tensor for keep probability.\n",
    "    \"\"\"\n",
    "    # TODO: Implement Function\n",
    "    return tf.placeholder(tf.float32, name='keep_prob')\n",
    "\n",
    "\n",
    "\"\"\"\n",
    "DON'T MODIFY ANYTHING IN THIS CELL THAT IS BELOW THIS LINE\n",
    "\"\"\"\n",
    "tf.reset_default_graph()\n",
    "tests.test_nn_image_inputs(neural_net_image_input)\n",
    "tests.test_nn_label_inputs(neural_net_label_input)\n",
    "tests.test_nn_keep_prob_inputs(neural_net_keep_prob_input)"
   ]
  },
  {
   "cell_type": "markdown",
   "metadata": {
    "deletable": true,
    "editable": true
   },
   "source": [
    "### Convolution and Max Pooling Layer\n",
    "Convolution layers have a lot of success with images. For this code cell, you should implement the function `conv2d_maxpool` to apply convolution then max pooling:\n",
    "* Create the weight and bias using `conv_ksize`, `conv_num_outputs` and the shape of `x_tensor`.\n",
    "* Apply a convolution to `x_tensor` using weight and `conv_strides`.\n",
    " * We recommend you use same padding, but you're welcome to use any padding.\n",
    "* Add bias\n",
    "* Add a nonlinear activation to the convolution.\n",
    "* Apply Max Pooling using `pool_ksize` and `pool_strides`.\n",
    " * We recommend you use same padding, but you're welcome to use any padding.\n",
    "\n",
    "**Note:** You **can't** use [TensorFlow Layers](https://www.tensorflow.org/api_docs/python/tf/layers) or [TensorFlow Layers (contrib)](https://www.tensorflow.org/api_guides/python/contrib.layers) for **this** layer, but you can still use TensorFlow's [Neural Network](https://www.tensorflow.org/api_docs/python/tf/nn) package. You may still use the shortcut option for all the **other** layers."
   ]
  },
  {
   "cell_type": "code",
   "execution_count": 18,
   "metadata": {
    "collapsed": false,
    "deletable": true,
    "editable": true
   },
   "outputs": [
    {
     "name": "stdout",
     "output_type": "stream",
     "text": [
      "Tests Passed\n"
     ]
    }
   ],
   "source": [
    "def conv2d_maxpool(x_tensor, conv_num_outputs, conv_ksize, conv_strides, pool_ksize, pool_strides):\n",
    "    \"\"\"\n",
    "    Apply convolution then max pooling to x_tensor\n",
    "    :param x_tensor: TensorFlow Tensor\n",
    "    :param conv_num_outputs: Number of outputs for the convolutional layer\n",
    "    :param conv_ksize: kernal size 2-D Tuple for the convolutional layer\n",
    "    :param conv_strides: Stride 2-D Tuple for convolution\n",
    "    :param pool_ksize: kernal size 2-D Tuple for pool\n",
    "    :param pool_strides: Stride 2-D Tuple for pool\n",
    "    : return: A tensor that represents convolution and max pooling of x_tensor\n",
    "    \"\"\"\n",
    "    # TODO: Implement Function\n",
    "    conv_W = tf.Variable(tf.truncated_normal([conv_ksize[0], conv_ksize[1], x_tensor.get_shape().as_list()[3], conv_num_outputs], stddev=0.1))\n",
    "    conv_b = tf.Variable(tf.zeros(conv_num_outputs))\n",
    "    conv = tf.nn.relu(tf.nn.conv2d(x_tensor, conv_W, strides=(1, conv_strides[0], conv_strides[1], 1), padding='SAME') + conv_b)\n",
    "    return tf.nn.max_pool(conv, ksize=(1, pool_ksize[0], pool_ksize[1], 1), strides=(1, pool_strides[0], pool_strides[1], 1), padding='SAME')\n",
    "    \n",
    "\"\"\"\n",
    "DON'T MODIFY ANYTHING IN THIS CELL THAT IS BELOW THIS LINE\n",
    "\"\"\"\n",
    "tests.test_con_pool(conv2d_maxpool)"
   ]
  },
  {
   "cell_type": "markdown",
   "metadata": {
    "deletable": true,
    "editable": true
   },
   "source": [
    "### Flatten Layer\n",
    "Implement the `flatten` function to change the dimension of `x_tensor` from a 4-D tensor to a 2-D tensor.  The output should be the shape (*Batch Size*, *Flattened Image Size*). Shortcut option: you can use classes from the [TensorFlow Layers](https://www.tensorflow.org/api_docs/python/tf/layers) or [TensorFlow Layers (contrib)](https://www.tensorflow.org/api_guides/python/contrib.layers) packages for this layer. For more of a challenge, only use other TensorFlow packages."
   ]
  },
  {
   "cell_type": "code",
   "execution_count": 9,
   "metadata": {
    "collapsed": false,
    "deletable": true,
    "editable": true
   },
   "outputs": [
    {
     "name": "stdout",
     "output_type": "stream",
     "text": [
      "Tests Passed\n"
     ]
    }
   ],
   "source": [
    "def flatten(x_tensor):\n",
    "    \"\"\"\n",
    "    Flatten x_tensor to (Batch Size, Flattened Image Size)\n",
    "    : x_tensor: A tensor of size (Batch Size, ...), where ... are the image dimensions.\n",
    "    : return: A tensor of size (Batch Size, Flattened Image Size).\n",
    "    \"\"\"\n",
    "    # TODO: Implement Function\n",
    "    h, w, d = x_tensor.get_shape().as_list()[1:]\n",
    "    return tf.reshape(x_tensor, [-1, h*w*d])\n",
    "\n",
    "\"\"\"\n",
    "DON'T MODIFY ANYTHING IN THIS CELL THAT IS BELOW THIS LINE\n",
    "\"\"\"\n",
    "tests.test_flatten(flatten)"
   ]
  },
  {
   "cell_type": "markdown",
   "metadata": {
    "deletable": true,
    "editable": true
   },
   "source": [
    "### Fully-Connected Layer\n",
    "Implement the `fully_conn` function to apply a fully connected layer to `x_tensor` with the shape (*Batch Size*, *num_outputs*). Shortcut option: you can use classes from the [TensorFlow Layers](https://www.tensorflow.org/api_docs/python/tf/layers) or [TensorFlow Layers (contrib)](https://www.tensorflow.org/api_guides/python/contrib.layers) packages for this layer. For more of a challenge, only use other TensorFlow packages."
   ]
  },
  {
   "cell_type": "code",
   "execution_count": 10,
   "metadata": {
    "collapsed": false,
    "deletable": true,
    "editable": true
   },
   "outputs": [
    {
     "name": "stdout",
     "output_type": "stream",
     "text": [
      "Tests Passed\n"
     ]
    }
   ],
   "source": [
    "def fully_conn(x_tensor, num_outputs):\n",
    "    \"\"\"\n",
    "    Apply a fully connected layer to x_tensor using weight and bias\n",
    "    : x_tensor: A 2-D tensor where the first dimension is batch size.\n",
    "    : num_outputs: The number of output that the new tensor should be.\n",
    "    : return: A 2-D tensor where the second dimension is num_outputs.\n",
    "    \"\"\"\n",
    "    # TODO: Implement Function\n",
    "    fc_W = tf.Variable(tf.truncated_normal([x_tensor.get_shape().as_list()[1], num_outputs], stddev=0.1))\n",
    "    fc_b = tf.Variable(tf.zeros(num_outputs))\n",
    "    return tf.nn.relu(tf.nn.bias_add(tf.matmul(x_tensor, fc_W), fc_b))\n",
    "\n",
    "\"\"\"\n",
    "DON'T MODIFY ANYTHING IN THIS CELL THAT IS BELOW THIS LINE\n",
    "\"\"\"\n",
    "tests.test_fully_conn(fully_conn)"
   ]
  },
  {
   "cell_type": "markdown",
   "metadata": {
    "deletable": true,
    "editable": true
   },
   "source": [
    "### Output Layer\n",
    "Implement the `output` function to apply a fully connected layer to `x_tensor` with the shape (*Batch Size*, *num_outputs*). Shortcut option: you can use classes from the [TensorFlow Layers](https://www.tensorflow.org/api_docs/python/tf/layers) or [TensorFlow Layers (contrib)](https://www.tensorflow.org/api_guides/python/contrib.layers) packages for this layer. For more of a challenge, only use other TensorFlow packages.\n",
    "\n",
    "**Note:** Activation, softmax, or cross entropy should **not** be applied to this."
   ]
  },
  {
   "cell_type": "code",
   "execution_count": 11,
   "metadata": {
    "collapsed": false,
    "deletable": true,
    "editable": true
   },
   "outputs": [
    {
     "name": "stdout",
     "output_type": "stream",
     "text": [
      "Tests Passed\n"
     ]
    }
   ],
   "source": [
    "def output(x_tensor, num_outputs):\n",
    "    \"\"\"\n",
    "    Apply a output layer to x_tensor using weight and bias\n",
    "    : x_tensor: A 2-D tensor where the first dimension is batch size.\n",
    "    : num_outputs: The number of output that the new tensor should be.\n",
    "    : return: A 2-D tensor where the second dimension is num_outputs.\n",
    "    \"\"\"\n",
    "    # TODO: Implement Function\n",
    "    fc_W = tf.Variable(tf.truncated_normal([x_tensor.get_shape().as_list()[1], num_outputs], stddev=0.1))\n",
    "    fc_b = tf.Variable(tf.zeros(num_outputs))\n",
    "    return tf.nn.bias_add(tf.matmul(x_tensor, fc_W), fc_b) \n",
    "\n",
    "\"\"\"\n",
    "DON'T MODIFY ANYTHING IN THIS CELL THAT IS BELOW THIS LINE\n",
    "\"\"\"\n",
    "tests.test_output(output)"
   ]
  },
  {
   "cell_type": "markdown",
   "metadata": {
    "deletable": true,
    "editable": true
   },
   "source": [
    "### Create Convolutional Model\n",
    "Implement the function `conv_net` to create a convolutional neural network model. The function takes in a batch of images, `x`, and outputs logits.  Use the layers you created above to create this model:\n",
    "\n",
    "* Apply 1, 2, or 3 Convolution and Max Pool layers\n",
    "* Apply a Flatten Layer\n",
    "* Apply 1, 2, or 3 Fully Connected Layers\n",
    "* Apply an Output Layer\n",
    "* Return the output\n",
    "* Apply [TensorFlow's Dropout](https://www.tensorflow.org/api_docs/python/tf/nn/dropout) to one or more layers in the model using `keep_prob`. "
   ]
  },
  {
   "cell_type": "code",
   "execution_count": 12,
   "metadata": {
    "collapsed": false,
    "deletable": true,
    "editable": true
   },
   "outputs": [
    {
     "name": "stdout",
     "output_type": "stream",
     "text": [
      "Neural Network Built!\n"
     ]
    }
   ],
   "source": [
    "def conv_net(x, keep_prob):\n",
    "    \"\"\"\n",
    "    Create a convolutional neural network model\n",
    "    : x: Placeholder tensor that holds image data.\n",
    "    : keep_prob: Placeholder tensor that hold dropout keep probability.\n",
    "    : return: Tensor that represents logits\n",
    "    \"\"\"\n",
    "    # TODO: Apply 1, 2, or 3 Convolution and Max Pool layers\n",
    "    #    Play around with different number of outputs, kernel size and stride\n",
    "    # Function Definition from Above:\n",
    "    #    conv2d_maxpool(x_tensor, conv_num_outputs, conv_ksize, conv_strides, pool_ksize, pool_strides)\n",
    "    conv1 = conv2d_maxpool(x, 32, (5, 5), (1, 1), (3, 3), (1,1))\n",
    "    conv2 = conv2d_maxpool(conv1, 64, (5, 5), (1, 1), (3, 3), (2,2))\n",
    "    conv3 = conv2d_maxpool(conv2, 128, (5, 5), (1, 1), (3, 3), (2,2))\n",
    "\n",
    "    # TODO: Apply a Flatten Layer\n",
    "    # Function Definition from Above:\n",
    "    #   flatten(x_tensor)\n",
    "    flat = flatten(conv3)\n",
    "\n",
    "    # TODO: Apply 1, 2, or 3 Fully Connected Layers\n",
    "    #    Play around with different number of outputs\n",
    "    # Function Definition from Above:\n",
    "    #   fully_conn(x_tensor, num_outputs)\n",
    "    fc1 = fully_conn(flat, 1024)\n",
    "    fc1_drop = tf.nn.dropout(fc1, keep_prob)\n",
    "    \n",
    "    # TODO: Apply an Output Layer\n",
    "    #    Set this to the number of classes\n",
    "    # Function Definition from Above:\n",
    "    #   output(x_tensor, num_outputs)\n",
    "    out = output(fc1_drop, 10)\n",
    "    \n",
    "    # TODO: return output\n",
    "    return out\n",
    "\n",
    "\"\"\"\n",
    "DON'T MODIFY ANYTHING IN THIS CELL THAT IS BELOW THIS LINE\n",
    "\"\"\"\n",
    "\n",
    "##############################\n",
    "## Build the Neural Network ##\n",
    "##############################\n",
    "\n",
    "# Remove previous weights, bias, inputs, etc..\n",
    "tf.reset_default_graph()\n",
    "\n",
    "# Inputs\n",
    "x = neural_net_image_input((32, 32, 3))\n",
    "y = neural_net_label_input(10)\n",
    "keep_prob = neural_net_keep_prob_input()\n",
    "\n",
    "# Model\n",
    "logits = conv_net(x, keep_prob)\n",
    "\n",
    "# Name logits Tensor, so that is can be loaded from disk after training\n",
    "logits = tf.identity(logits, name='logits')\n",
    "\n",
    "# Loss and Optimizer\n",
    "cost = tf.reduce_mean(tf.nn.softmax_cross_entropy_with_logits(logits=logits, labels=y))\n",
    "optimizer = tf.train.AdamOptimizer().minimize(cost)\n",
    "\n",
    "# Accuracy\n",
    "correct_pred = tf.equal(tf.argmax(logits, 1), tf.argmax(y, 1))\n",
    "accuracy = tf.reduce_mean(tf.cast(correct_pred, tf.float32), name='accuracy')\n",
    "\n",
    "tests.test_conv_net(conv_net)"
   ]
  },
  {
   "cell_type": "markdown",
   "metadata": {
    "deletable": true,
    "editable": true
   },
   "source": [
    "## Train the Neural Network\n",
    "### Single Optimization\n",
    "Implement the function `train_neural_network` to do a single optimization.  The optimization should use `optimizer` to optimize in `session` with a `feed_dict` of the following:\n",
    "* `x` for image input\n",
    "* `y` for labels\n",
    "* `keep_prob` for keep probability for dropout\n",
    "\n",
    "This function will be called for each batch, so `tf.global_variables_initializer()` has already been called.\n",
    "\n",
    "Note: Nothing needs to be returned. This function is only optimizing the neural network."
   ]
  },
  {
   "cell_type": "code",
   "execution_count": 13,
   "metadata": {
    "collapsed": false,
    "deletable": true,
    "editable": true
   },
   "outputs": [
    {
     "name": "stdout",
     "output_type": "stream",
     "text": [
      "Tests Passed\n"
     ]
    }
   ],
   "source": [
    "def train_neural_network(session, optimizer, keep_probability, feature_batch, label_batch):\n",
    "    \"\"\"\n",
    "    Optimize the session on a batch of images and labels\n",
    "    : session: Current TensorFlow session\n",
    "    : optimizer: TensorFlow optimizer function\n",
    "    : keep_probability: keep probability\n",
    "    : feature_batch: Batch of Numpy image data\n",
    "    : label_batch: Batch of Numpy label data\n",
    "    \"\"\"\n",
    "    # TODO: Implement Function\n",
    "    session.run(optimizer, feed_dict={x: feature_batch, y: label_batch, keep_prob: keep_probability})\n",
    "\n",
    "\n",
    "\"\"\"\n",
    "DON'T MODIFY ANYTHING IN THIS CELL THAT IS BELOW THIS LINE\n",
    "\"\"\"\n",
    "tests.test_train_nn(train_neural_network)"
   ]
  },
  {
   "cell_type": "markdown",
   "metadata": {
    "deletable": true,
    "editable": true
   },
   "source": [
    "### Show Stats\n",
    "Implement the function `print_stats` to print loss and validation accuracy.  Use the global variables `valid_features` and `valid_labels` to calculate validation accuracy.  Use a keep probability of `1.0` to calculate the loss and validation accuracy."
   ]
  },
  {
   "cell_type": "code",
   "execution_count": 19,
   "metadata": {
    "collapsed": true,
    "deletable": true,
    "editable": true
   },
   "outputs": [],
   "source": [
    "def print_stats(session, feature_batch, label_batch, cost, accuracy):\n",
    "    \"\"\"\n",
    "    Print information about loss and validation accuracy\n",
    "    : session: Current TensorFlow session\n",
    "    : feature_batch: Batch of Numpy image data\n",
    "    : label_batch: Batch of Numpy label data\n",
    "    : cost: TensorFlow cost function\n",
    "    : accuracy: TensorFlow accuracy function\n",
    "    \"\"\"\n",
    "    # TODO: Implement Function\n",
    "    loss = session.run(cost, feed_dict = {x: feature_batch, y: label_batch, keep_prob:1.0})\n",
    "    print('Training Loss = {:>.7f}'.format(loss), end='  ')\n",
    "    valid_accuracy = accuracy.eval( feed_dict = {x: valid_features, y: valid_labels, keep_prob:1.0})\n",
    "    print('Validation Accuracy = {:>.7f}'.format(valid_accuracy))\n"
   ]
  },
  {
   "cell_type": "markdown",
   "metadata": {
    "deletable": true,
    "editable": true
   },
   "source": [
    "### Hyperparameters\n",
    "Tune the following parameters:\n",
    "* Set `epochs` to the number of iterations until the network stops learning or start overfitting\n",
    "* Set `batch_size` to the highest number that your machine has memory for.  Most people set them to common sizes of memory:\n",
    " * 64\n",
    " * 128\n",
    " * 256\n",
    " * ...\n",
    "* Set `keep_probability` to the probability of keeping a node using dropout"
   ]
  },
  {
   "cell_type": "code",
   "execution_count": 24,
   "metadata": {
    "collapsed": true,
    "deletable": true,
    "editable": true
   },
   "outputs": [],
   "source": [
    "# TODO: Tune Parameters\n",
    "epochs = 50\n",
    "batch_size = 512\n",
    "keep_probability = 0.5"
   ]
  },
  {
   "cell_type": "markdown",
   "metadata": {
    "deletable": true,
    "editable": true
   },
   "source": [
    "### Train on a Single CIFAR-10 Batch\n",
    "Instead of training the neural network on all the CIFAR-10 batches of data, let's use a single batch. This should save time while you iterate on the model to get a better accuracy.  Once the final validation accuracy is 50% or greater, run the model on all the data in the next section."
   ]
  },
  {
   "cell_type": "code",
   "execution_count": 23,
   "metadata": {
    "collapsed": false,
    "deletable": true,
    "editable": true
   },
   "outputs": [
    {
     "name": "stdout",
     "output_type": "stream",
     "text": [
      "Checking the Training on a Single Batch...\n",
      "Epoch  1, CIFAR-10 Batch 1:  Training Loss = 2.1675777  Validation Accuracy = 0.1932000\n",
      "Epoch  2, CIFAR-10 Batch 1:  Training Loss = 2.0205827  Validation Accuracy = 0.2864000\n",
      "Epoch  3, CIFAR-10 Batch 1:  Training Loss = 1.9010743  Validation Accuracy = 0.2986000\n",
      "Epoch  4, CIFAR-10 Batch 1:  Training Loss = 1.6989353  Validation Accuracy = 0.3968000\n",
      "Epoch  5, CIFAR-10 Batch 1:  Training Loss = 1.6029055  Validation Accuracy = 0.4154000\n",
      "Epoch  6, CIFAR-10 Batch 1:  Training Loss = 1.5279485  Validation Accuracy = 0.4412000\n",
      "Epoch  7, CIFAR-10 Batch 1:  Training Loss = 1.3957617  Validation Accuracy = 0.4782000\n",
      "Epoch  8, CIFAR-10 Batch 1:  Training Loss = 1.3247981  Validation Accuracy = 0.4862000\n",
      "Epoch  9, CIFAR-10 Batch 1:  Training Loss = 1.2383866  Validation Accuracy = 0.5120000\n",
      "Epoch 10, CIFAR-10 Batch 1:  Training Loss = 1.1698539  Validation Accuracy = 0.5293999\n"
     ]
    }
   ],
   "source": [
    "\"\"\"\n",
    "DON'T MODIFY ANYTHING IN THIS CELL\n",
    "\"\"\"\n",
    "print('Checking the Training on a Single Batch...')\n",
    "with tf.Session() as sess:\n",
    "    # Initializing the variables\n",
    "    sess.run(tf.global_variables_initializer())\n",
    "    \n",
    "    # Training cycle\n",
    "    for epoch in range(epochs):\n",
    "        batch_i = 1\n",
    "        for batch_features, batch_labels in helper.load_preprocess_training_batch(batch_i, batch_size):\n",
    "            train_neural_network(sess, optimizer, keep_probability, batch_features, batch_labels)\n",
    "        print('Epoch {:>2}, CIFAR-10 Batch {}:  '.format(epoch + 1, batch_i), end='')\n",
    "        print_stats(sess, batch_features, batch_labels, cost, accuracy)"
   ]
  },
  {
   "cell_type": "markdown",
   "metadata": {
    "deletable": true,
    "editable": true
   },
   "source": [
    "### Fully Train the Model\n",
    "Now that you got a good accuracy with a single CIFAR-10 batch, try it with all five batches."
   ]
  },
  {
   "cell_type": "code",
   "execution_count": 25,
   "metadata": {
    "collapsed": false,
    "deletable": true,
    "editable": true
   },
   "outputs": [
    {
     "name": "stdout",
     "output_type": "stream",
     "text": [
      "Training...\n",
      "Epoch  1, CIFAR-10 Batch 1:  Training Loss = 2.0622201  Validation Accuracy = 0.2568000\n",
      "Epoch  1, CIFAR-10 Batch 2:  Training Loss = 1.9144775  Validation Accuracy = 0.2914000\n",
      "Epoch  1, CIFAR-10 Batch 3:  Training Loss = 1.6879542  Validation Accuracy = 0.3410000\n",
      "Epoch  1, CIFAR-10 Batch 4:  Training Loss = 1.5990670  Validation Accuracy = 0.3976000\n",
      "Epoch  1, CIFAR-10 Batch 5:  Training Loss = 1.5358739  Validation Accuracy = 0.4328000\n",
      "Epoch  2, CIFAR-10 Batch 1:  Training Loss = 1.5225650  Validation Accuracy = 0.4708000\n",
      "Epoch  2, CIFAR-10 Batch 2:  Training Loss = 1.3554916  Validation Accuracy = 0.4650000\n",
      "Epoch  2, CIFAR-10 Batch 3:  Training Loss = 1.1919411  Validation Accuracy = 0.4995999\n",
      "Epoch  2, CIFAR-10 Batch 4:  Training Loss = 1.1780924  Validation Accuracy = 0.5296000\n",
      "Epoch  2, CIFAR-10 Batch 5:  Training Loss = 1.2758176  Validation Accuracy = 0.5254000\n",
      "Epoch  3, CIFAR-10 Batch 1:  Training Loss = 1.3168499  Validation Accuracy = 0.5419999\n",
      "Epoch  3, CIFAR-10 Batch 2:  Training Loss = 1.1247824  Validation Accuracy = 0.5613999\n",
      "Epoch  3, CIFAR-10 Batch 3:  Training Loss = 1.0393379  Validation Accuracy = 0.5622000\n",
      "Epoch  3, CIFAR-10 Batch 4:  Training Loss = 0.9762719  Validation Accuracy = 0.5909999\n",
      "Epoch  3, CIFAR-10 Batch 5:  Training Loss = 1.0921617  Validation Accuracy = 0.5875999\n",
      "Epoch  4, CIFAR-10 Batch 1:  Training Loss = 1.1281576  Validation Accuracy = 0.5891999\n",
      "Epoch  4, CIFAR-10 Batch 2:  Training Loss = 1.0256461  Validation Accuracy = 0.5875999\n",
      "Epoch  4, CIFAR-10 Batch 3:  Training Loss = 0.9285699  Validation Accuracy = 0.6117999\n",
      "Epoch  4, CIFAR-10 Batch 4:  Training Loss = 0.8544188  Validation Accuracy = 0.6163999\n",
      "Epoch  4, CIFAR-10 Batch 5:  Training Loss = 0.9550030  Validation Accuracy = 0.6171999\n",
      "Epoch  5, CIFAR-10 Batch 1:  Training Loss = 0.9893418  Validation Accuracy = 0.6211999\n",
      "Epoch  5, CIFAR-10 Batch 2:  Training Loss = 0.9185931  Validation Accuracy = 0.6233999\n",
      "Epoch  5, CIFAR-10 Batch 3:  Training Loss = 0.7845374  Validation Accuracy = 0.6457999\n",
      "Epoch  5, CIFAR-10 Batch 4:  Training Loss = 0.7729361  Validation Accuracy = 0.6373999\n",
      "Epoch  5, CIFAR-10 Batch 5:  Training Loss = 0.8044851  Validation Accuracy = 0.6563999\n",
      "Epoch  6, CIFAR-10 Batch 1:  Training Loss = 0.8845105  Validation Accuracy = 0.6637999\n",
      "Epoch  6, CIFAR-10 Batch 2:  Training Loss = 0.8024548  Validation Accuracy = 0.6671999\n",
      "Epoch  6, CIFAR-10 Batch 3:  Training Loss = 0.6998307  Validation Accuracy = 0.6727998\n",
      "Epoch  6, CIFAR-10 Batch 4:  Training Loss = 0.5912484  Validation Accuracy = 0.6855998\n",
      "Epoch  6, CIFAR-10 Batch 5:  Training Loss = 0.7037134  Validation Accuracy = 0.6645999\n",
      "Epoch  7, CIFAR-10 Batch 1:  Training Loss = 0.7492120  Validation Accuracy = 0.6771998\n",
      "Epoch  7, CIFAR-10 Batch 2:  Training Loss = 0.7315219  Validation Accuracy = 0.6772000\n",
      "Epoch  7, CIFAR-10 Batch 3:  Training Loss = 0.6383967  Validation Accuracy = 0.6949999\n",
      "Epoch  7, CIFAR-10 Batch 4:  Training Loss = 0.5473959  Validation Accuracy = 0.6943999\n",
      "Epoch  7, CIFAR-10 Batch 5:  Training Loss = 0.6314870  Validation Accuracy = 0.6859999\n",
      "Epoch  8, CIFAR-10 Batch 1:  Training Loss = 0.6515091  Validation Accuracy = 0.7055998\n",
      "Epoch  8, CIFAR-10 Batch 2:  Training Loss = 0.6068472  Validation Accuracy = 0.6937999\n",
      "Epoch  8, CIFAR-10 Batch 3:  Training Loss = 0.6030661  Validation Accuracy = 0.6995999\n",
      "Epoch  8, CIFAR-10 Batch 4:  Training Loss = 0.4719623  Validation Accuracy = 0.7013999\n",
      "Epoch  8, CIFAR-10 Batch 5:  Training Loss = 0.5515606  Validation Accuracy = 0.7119999\n",
      "Epoch  9, CIFAR-10 Batch 1:  Training Loss = 0.5664132  Validation Accuracy = 0.7189999\n",
      "Epoch  9, CIFAR-10 Batch 2:  Training Loss = 0.5295705  Validation Accuracy = 0.7117999\n",
      "Epoch  9, CIFAR-10 Batch 3:  Training Loss = 0.4991325  Validation Accuracy = 0.7225999\n",
      "Epoch  9, CIFAR-10 Batch 4:  Training Loss = 0.4248649  Validation Accuracy = 0.7181998\n",
      "Epoch  9, CIFAR-10 Batch 5:  Training Loss = 0.4808713  Validation Accuracy = 0.7359998\n",
      "Epoch 10, CIFAR-10 Batch 1:  Training Loss = 0.4894282  Validation Accuracy = 0.7241998\n",
      "Epoch 10, CIFAR-10 Batch 2:  Training Loss = 0.4683152  Validation Accuracy = 0.7237998\n",
      "Epoch 10, CIFAR-10 Batch 3:  Training Loss = 0.4348335  Validation Accuracy = 0.7187998\n",
      "Epoch 10, CIFAR-10 Batch 4:  Training Loss = 0.3856949  Validation Accuracy = 0.7255999\n",
      "Epoch 10, CIFAR-10 Batch 5:  Training Loss = 0.4577035  Validation Accuracy = 0.7253999\n",
      "Epoch 11, CIFAR-10 Batch 1:  Training Loss = 0.4730571  Validation Accuracy = 0.7235999\n",
      "Epoch 11, CIFAR-10 Batch 2:  Training Loss = 0.4069915  Validation Accuracy = 0.7315999\n",
      "Epoch 11, CIFAR-10 Batch 3:  Training Loss = 0.3716304  Validation Accuracy = 0.7237998\n",
      "Epoch 11, CIFAR-10 Batch 4:  Training Loss = 0.3161197  Validation Accuracy = 0.7295998\n",
      "Epoch 11, CIFAR-10 Batch 5:  Training Loss = 0.3903976  Validation Accuracy = 0.7323998\n",
      "Epoch 12, CIFAR-10 Batch 1:  Training Loss = 0.4563006  Validation Accuracy = 0.7225999\n",
      "Epoch 12, CIFAR-10 Batch 2:  Training Loss = 0.3543476  Validation Accuracy = 0.7357999\n",
      "Epoch 12, CIFAR-10 Batch 3:  Training Loss = 0.2792449  Validation Accuracy = 0.7397999\n",
      "Epoch 12, CIFAR-10 Batch 4:  Training Loss = 0.2855751  Validation Accuracy = 0.7349998\n",
      "Epoch 12, CIFAR-10 Batch 5:  Training Loss = 0.3364473  Validation Accuracy = 0.7279999\n",
      "Epoch 13, CIFAR-10 Batch 1:  Training Loss = 0.3377784  Validation Accuracy = 0.7493998\n",
      "Epoch 13, CIFAR-10 Batch 2:  Training Loss = 0.3106557  Validation Accuracy = 0.7349998\n",
      "Epoch 13, CIFAR-10 Batch 3:  Training Loss = 0.2529076  Validation Accuracy = 0.7469999\n",
      "Epoch 13, CIFAR-10 Batch 4:  Training Loss = 0.2513670  Validation Accuracy = 0.7245998\n",
      "Epoch 13, CIFAR-10 Batch 5:  Training Loss = 0.2800118  Validation Accuracy = 0.7297999\n",
      "Epoch 14, CIFAR-10 Batch 1:  Training Loss = 0.2866614  Validation Accuracy = 0.7339998\n",
      "Epoch 14, CIFAR-10 Batch 2:  Training Loss = 0.2654078  Validation Accuracy = 0.7315998\n",
      "Epoch 14, CIFAR-10 Batch 3:  Training Loss = 0.2209670  Validation Accuracy = 0.7497998\n",
      "Epoch 14, CIFAR-10 Batch 4:  Training Loss = 0.1811274  Validation Accuracy = 0.7359998\n",
      "Epoch 14, CIFAR-10 Batch 5:  Training Loss = 0.2292256  Validation Accuracy = 0.7409998\n",
      "Epoch 15, CIFAR-10 Batch 1:  Training Loss = 0.2279821  Validation Accuracy = 0.7447999\n",
      "Epoch 15, CIFAR-10 Batch 2:  Training Loss = 0.2194850  Validation Accuracy = 0.7361999\n",
      "Epoch 15, CIFAR-10 Batch 3:  Training Loss = 0.1957387  Validation Accuracy = 0.7385998\n",
      "Epoch 15, CIFAR-10 Batch 4:  Training Loss = 0.1733181  Validation Accuracy = 0.7353998\n",
      "Epoch 15, CIFAR-10 Batch 5:  Training Loss = 0.1794761  Validation Accuracy = 0.7499998\n",
      "Epoch 16, CIFAR-10 Batch 1:  Training Loss = 0.1829791  Validation Accuracy = 0.7411998\n",
      "Epoch 16, CIFAR-10 Batch 2:  Training Loss = 0.1863333  Validation Accuracy = 0.7417998\n",
      "Epoch 16, CIFAR-10 Batch 3:  Training Loss = 0.1668159  Validation Accuracy = 0.7353998\n",
      "Epoch 16, CIFAR-10 Batch 4:  Training Loss = 0.1547918  Validation Accuracy = 0.7475998\n",
      "Epoch 16, CIFAR-10 Batch 5:  Training Loss = 0.1712858  Validation Accuracy = 0.7541999\n",
      "Epoch 17, CIFAR-10 Batch 1:  Training Loss = 0.1422316  Validation Accuracy = 0.7565998\n",
      "Epoch 17, CIFAR-10 Batch 2:  Training Loss = 0.1252392  Validation Accuracy = 0.7561998\n",
      "Epoch 17, CIFAR-10 Batch 3:  Training Loss = 0.1664364  Validation Accuracy = 0.7393998\n",
      "Epoch 17, CIFAR-10 Batch 4:  Training Loss = 0.1585115  Validation Accuracy = 0.7235999\n",
      "Epoch 17, CIFAR-10 Batch 5:  Training Loss = 0.1508340  Validation Accuracy = 0.7435999\n",
      "Epoch 18, CIFAR-10 Batch 1:  Training Loss = 0.1449389  Validation Accuracy = 0.7607998\n",
      "Epoch 18, CIFAR-10 Batch 2:  Training Loss = 0.1123189  Validation Accuracy = 0.7449999\n",
      "Epoch 18, CIFAR-10 Batch 3:  Training Loss = 0.1486989  Validation Accuracy = 0.7471998\n",
      "Epoch 18, CIFAR-10 Batch 4:  Training Loss = 0.1082127  Validation Accuracy = 0.7345999\n",
      "Epoch 18, CIFAR-10 Batch 5:  Training Loss = 0.1322928  Validation Accuracy = 0.7445998\n",
      "Epoch 19, CIFAR-10 Batch 1:  Training Loss = 0.1018777  Validation Accuracy = 0.7593998\n",
      "Epoch 19, CIFAR-10 Batch 2:  Training Loss = 0.0872610  Validation Accuracy = 0.7465999\n",
      "Epoch 19, CIFAR-10 Batch 3:  Training Loss = 0.1078722  Validation Accuracy = 0.7573998\n",
      "Epoch 19, CIFAR-10 Batch 4:  Training Loss = 0.1016814  Validation Accuracy = 0.7373998\n",
      "Epoch 19, CIFAR-10 Batch 5:  Training Loss = 0.1137981  Validation Accuracy = 0.7441998\n",
      "Epoch 20, CIFAR-10 Batch 1:  Training Loss = 0.1126234  Validation Accuracy = 0.7485998\n",
      "Epoch 20, CIFAR-10 Batch 2:  Training Loss = 0.0830266  Validation Accuracy = 0.7489999\n",
      "Epoch 20, CIFAR-10 Batch 3:  Training Loss = 0.0900301  Validation Accuracy = 0.7471999\n",
      "Epoch 20, CIFAR-10 Batch 4:  Training Loss = 0.0995334  Validation Accuracy = 0.7485998\n",
      "Epoch 20, CIFAR-10 Batch 5:  Training Loss = 0.0751663  Validation Accuracy = 0.7521998\n",
      "Epoch 21, CIFAR-10 Batch 1:  Training Loss = 0.0804532  Validation Accuracy = 0.7497998\n",
      "Epoch 21, CIFAR-10 Batch 2:  Training Loss = 0.0562951  Validation Accuracy = 0.7439998\n",
      "Epoch 21, CIFAR-10 Batch 3:  Training Loss = 0.0739390  Validation Accuracy = 0.7509998\n",
      "Epoch 21, CIFAR-10 Batch 4:  Training Loss = 0.0809612  Validation Accuracy = 0.7463999\n",
      "Epoch 21, CIFAR-10 Batch 5:  Training Loss = 0.0629379  Validation Accuracy = 0.7489998\n",
      "Epoch 22, CIFAR-10 Batch 1:  Training Loss = 0.0761703  Validation Accuracy = 0.7469998\n",
      "Epoch 22, CIFAR-10 Batch 2:  Training Loss = 0.0448968  Validation Accuracy = 0.7525998\n",
      "Epoch 22, CIFAR-10 Batch 3:  Training Loss = 0.0665519  Validation Accuracy = 0.7467998\n",
      "Epoch 22, CIFAR-10 Batch 4:  Training Loss = 0.1010304  Validation Accuracy = 0.7379998\n",
      "Epoch 22, CIFAR-10 Batch 5:  Training Loss = 0.0549935  Validation Accuracy = 0.7467998\n",
      "Epoch 23, CIFAR-10 Batch 1:  Training Loss = 0.0463742  Validation Accuracy = 0.7443998\n",
      "Epoch 23, CIFAR-10 Batch 2:  Training Loss = 0.0512041  Validation Accuracy = 0.7483998\n",
      "Epoch 23, CIFAR-10 Batch 3:  Training Loss = 0.0649960  Validation Accuracy = 0.7381998\n",
      "Epoch 23, CIFAR-10 Batch 4:  Training Loss = 0.0617371  Validation Accuracy = 0.7463999\n",
      "Epoch 23, CIFAR-10 Batch 5:  Training Loss = 0.0567839  Validation Accuracy = 0.7477998\n",
      "Epoch 24, CIFAR-10 Batch 1:  Training Loss = 0.0523027  Validation Accuracy = 0.7501999\n",
      "Epoch 24, CIFAR-10 Batch 2:  Training Loss = 0.0589700  Validation Accuracy = 0.7457999\n",
      "Epoch 24, CIFAR-10 Batch 3:  Training Loss = 0.0519886  Validation Accuracy = 0.7441998\n",
      "Epoch 24, CIFAR-10 Batch 4:  Training Loss = 0.0383860  Validation Accuracy = 0.7483999\n",
      "Epoch 24, CIFAR-10 Batch 5:  Training Loss = 0.0291992  Validation Accuracy = 0.7481998\n",
      "Epoch 25, CIFAR-10 Batch 1:  Training Loss = 0.0305739  Validation Accuracy = 0.7533998\n",
      "Epoch 25, CIFAR-10 Batch 2:  Training Loss = 0.0941774  Validation Accuracy = 0.7255999\n",
      "Epoch 25, CIFAR-10 Batch 3:  Training Loss = 0.0472422  Validation Accuracy = 0.7493998\n",
      "Epoch 25, CIFAR-10 Batch 4:  Training Loss = 0.0274512  Validation Accuracy = 0.7571998\n",
      "Epoch 25, CIFAR-10 Batch 5:  Training Loss = 0.0265511  Validation Accuracy = 0.7519999\n",
      "Epoch 26, CIFAR-10 Batch 1:  Training Loss = 0.0290198  Validation Accuracy = 0.7513999\n",
      "Epoch 26, CIFAR-10 Batch 2:  Training Loss = 0.0632895  Validation Accuracy = 0.7273999\n",
      "Epoch 26, CIFAR-10 Batch 3:  Training Loss = 0.0472308  Validation Accuracy = 0.7485998\n",
      "Epoch 26, CIFAR-10 Batch 4:  Training Loss = 0.0294589  Validation Accuracy = 0.7499999\n",
      "Epoch 26, CIFAR-10 Batch 5:  Training Loss = 0.0277002  Validation Accuracy = 0.7479998\n",
      "Epoch 27, CIFAR-10 Batch 1:  Training Loss = 0.0239735  Validation Accuracy = 0.7529998\n",
      "Epoch 27, CIFAR-10 Batch 2:  Training Loss = 0.0376429  Validation Accuracy = 0.7321998\n",
      "Epoch 27, CIFAR-10 Batch 3:  Training Loss = 0.0345922  Validation Accuracy = 0.7471999\n",
      "Epoch 27, CIFAR-10 Batch 4:  Training Loss = 0.0281302  Validation Accuracy = 0.7629998\n",
      "Epoch 27, CIFAR-10 Batch 5:  Training Loss = 0.0237098  Validation Accuracy = 0.7537998\n",
      "Epoch 28, CIFAR-10 Batch 1:  Training Loss = 0.0205178  Validation Accuracy = 0.7487999\n",
      "Epoch 28, CIFAR-10 Batch 2:  Training Loss = 0.0209297  Validation Accuracy = 0.7511998\n",
      "Epoch 28, CIFAR-10 Batch 3:  Training Loss = 0.0312494  Validation Accuracy = 0.7445998\n",
      "Epoch 28, CIFAR-10 Batch 4:  Training Loss = 0.0344695  Validation Accuracy = 0.7655998\n",
      "Epoch 28, CIFAR-10 Batch 5:  Training Loss = 0.0229072  Validation Accuracy = 0.7443998\n",
      "Epoch 29, CIFAR-10 Batch 1:  Training Loss = 0.0178371  Validation Accuracy = 0.7421998\n",
      "Epoch 29, CIFAR-10 Batch 2:  Training Loss = 0.0145220  Validation Accuracy = 0.7593998\n",
      "Epoch 29, CIFAR-10 Batch 3:  Training Loss = 0.0256563  Validation Accuracy = 0.7303998\n",
      "Epoch 29, CIFAR-10 Batch 4:  Training Loss = 0.0256049  Validation Accuracy = 0.7471999\n",
      "Epoch 29, CIFAR-10 Batch 5:  Training Loss = 0.0203008  Validation Accuracy = 0.7395998\n",
      "Epoch 30, CIFAR-10 Batch 1:  Training Loss = 0.0259884  Validation Accuracy = 0.7449998\n",
      "Epoch 30, CIFAR-10 Batch 2:  Training Loss = 0.0155653  Validation Accuracy = 0.7487999\n",
      "Epoch 30, CIFAR-10 Batch 3:  Training Loss = 0.0185183  Validation Accuracy = 0.7413999\n",
      "Epoch 30, CIFAR-10 Batch 4:  Training Loss = 0.0247936  Validation Accuracy = 0.7559998\n",
      "Epoch 30, CIFAR-10 Batch 5:  Training Loss = 0.0152951  Validation Accuracy = 0.7407998\n",
      "Epoch 31, CIFAR-10 Batch 1:  Training Loss = 0.0143292  Validation Accuracy = 0.7443998\n",
      "Epoch 31, CIFAR-10 Batch 2:  Training Loss = 0.0098251  Validation Accuracy = 0.7641999\n",
      "Epoch 31, CIFAR-10 Batch 3:  Training Loss = 0.0096381  Validation Accuracy = 0.7513998\n",
      "Epoch 31, CIFAR-10 Batch 4:  Training Loss = 0.0239116  Validation Accuracy = 0.7599999\n",
      "Epoch 31, CIFAR-10 Batch 5:  Training Loss = 0.0069852  Validation Accuracy = 0.7583998\n",
      "Epoch 32, CIFAR-10 Batch 1:  Training Loss = 0.0126277  Validation Accuracy = 0.7605999\n",
      "Epoch 32, CIFAR-10 Batch 2:  Training Loss = 0.0126500  Validation Accuracy = 0.7583998\n",
      "Epoch 32, CIFAR-10 Batch 3:  Training Loss = 0.0103509  Validation Accuracy = 0.7453998\n",
      "Epoch 32, CIFAR-10 Batch 4:  Training Loss = 0.0131704  Validation Accuracy = 0.7571998\n",
      "Epoch 32, CIFAR-10 Batch 5:  Training Loss = 0.0069726  Validation Accuracy = 0.7629998\n",
      "Epoch 33, CIFAR-10 Batch 1:  Training Loss = 0.0070784  Validation Accuracy = 0.7561998\n",
      "Epoch 33, CIFAR-10 Batch 2:  Training Loss = 0.0105648  Validation Accuracy = 0.7655998\n",
      "Epoch 33, CIFAR-10 Batch 3:  Training Loss = 0.0166963  Validation Accuracy = 0.7427998\n",
      "Epoch 33, CIFAR-10 Batch 4:  Training Loss = 0.0190910  Validation Accuracy = 0.7587999\n",
      "Epoch 33, CIFAR-10 Batch 5:  Training Loss = 0.0046276  Validation Accuracy = 0.7611998\n",
      "Epoch 34, CIFAR-10 Batch 1:  Training Loss = 0.0103760  Validation Accuracy = 0.7581998\n",
      "Epoch 34, CIFAR-10 Batch 2:  Training Loss = 0.0112024  Validation Accuracy = 0.7591999\n",
      "Epoch 34, CIFAR-10 Batch 3:  Training Loss = 0.0185795  Validation Accuracy = 0.7425998\n",
      "Epoch 34, CIFAR-10 Batch 4:  Training Loss = 0.0159424  Validation Accuracy = 0.7599998\n",
      "Epoch 34, CIFAR-10 Batch 5:  Training Loss = 0.0107592  Validation Accuracy = 0.7553999\n",
      "Epoch 35, CIFAR-10 Batch 1:  Training Loss = 0.0147840  Validation Accuracy = 0.7615998\n",
      "Epoch 35, CIFAR-10 Batch 2:  Training Loss = 0.0151238  Validation Accuracy = 0.7571998\n",
      "Epoch 35, CIFAR-10 Batch 3:  Training Loss = 0.0120227  Validation Accuracy = 0.7431998\n",
      "Epoch 35, CIFAR-10 Batch 4:  Training Loss = 0.0103624  Validation Accuracy = 0.7635998\n",
      "Epoch 35, CIFAR-10 Batch 5:  Training Loss = 0.0093863  Validation Accuracy = 0.7563998\n",
      "Epoch 36, CIFAR-10 Batch 1:  Training Loss = 0.0059542  Validation Accuracy = 0.7619998\n",
      "Epoch 36, CIFAR-10 Batch 2:  Training Loss = 0.0089928  Validation Accuracy = 0.7601998\n",
      "Epoch 36, CIFAR-10 Batch 3:  Training Loss = 0.0043126  Validation Accuracy = 0.7565998\n",
      "Epoch 36, CIFAR-10 Batch 4:  Training Loss = 0.0104638  Validation Accuracy = 0.7659999\n",
      "Epoch 36, CIFAR-10 Batch 5:  Training Loss = 0.0028476  Validation Accuracy = 0.7637998\n",
      "Epoch 37, CIFAR-10 Batch 1:  Training Loss = 0.0043531  Validation Accuracy = 0.7575998\n",
      "Epoch 37, CIFAR-10 Batch 2:  Training Loss = 0.0059470  Validation Accuracy = 0.7555999\n",
      "Epoch 37, CIFAR-10 Batch 3:  Training Loss = 0.0043835  Validation Accuracy = 0.7543998\n",
      "Epoch 37, CIFAR-10 Batch 4:  Training Loss = 0.0057851  Validation Accuracy = 0.7587998\n",
      "Epoch 37, CIFAR-10 Batch 5:  Training Loss = 0.0023730  Validation Accuracy = 0.7691998\n",
      "Epoch 38, CIFAR-10 Batch 1:  Training Loss = 0.0053938  Validation Accuracy = 0.7611998\n",
      "Epoch 38, CIFAR-10 Batch 2:  Training Loss = 0.0036877  Validation Accuracy = 0.7623999\n",
      "Epoch 38, CIFAR-10 Batch 3:  Training Loss = 0.0028152  Validation Accuracy = 0.7659998\n",
      "Epoch 38, CIFAR-10 Batch 4:  Training Loss = 0.0055981  Validation Accuracy = 0.7605999\n",
      "Epoch 38, CIFAR-10 Batch 5:  Training Loss = 0.0025306  Validation Accuracy = 0.7679999\n",
      "Epoch 39, CIFAR-10 Batch 1:  Training Loss = 0.0034279  Validation Accuracy = 0.7639998\n",
      "Epoch 39, CIFAR-10 Batch 2:  Training Loss = 0.0025817  Validation Accuracy = 0.7605999\n",
      "Epoch 39, CIFAR-10 Batch 3:  Training Loss = 0.0030286  Validation Accuracy = 0.7591998\n",
      "Epoch 39, CIFAR-10 Batch 4:  Training Loss = 0.0039969  Validation Accuracy = 0.7641999\n",
      "Epoch 39, CIFAR-10 Batch 5:  Training Loss = 0.0039224  Validation Accuracy = 0.7631998\n",
      "Epoch 40, CIFAR-10 Batch 1:  Training Loss = 0.0029115  Validation Accuracy = 0.7617999\n",
      "Epoch 40, CIFAR-10 Batch 2:  Training Loss = 0.0019384  Validation Accuracy = 0.7597998\n",
      "Epoch 40, CIFAR-10 Batch 3:  Training Loss = 0.0013395  Validation Accuracy = 0.7649999\n",
      "Epoch 40, CIFAR-10 Batch 4:  Training Loss = 0.0052100  Validation Accuracy = 0.7617998\n",
      "Epoch 40, CIFAR-10 Batch 5:  Training Loss = 0.0027366  Validation Accuracy = 0.7589999\n",
      "Epoch 41, CIFAR-10 Batch 1:  Training Loss = 0.0035403  Validation Accuracy = 0.7645999\n",
      "Epoch 41, CIFAR-10 Batch 2:  Training Loss = 0.0034419  Validation Accuracy = 0.7477998\n",
      "Epoch 41, CIFAR-10 Batch 3:  Training Loss = 0.0029563  Validation Accuracy = 0.7619998\n",
      "Epoch 41, CIFAR-10 Batch 4:  Training Loss = 0.0021762  Validation Accuracy = 0.7671998\n",
      "Epoch 41, CIFAR-10 Batch 5:  Training Loss = 0.0036724  Validation Accuracy = 0.7551998\n",
      "Epoch 42, CIFAR-10 Batch 1:  Training Loss = 0.0030567  Validation Accuracy = 0.7619998\n",
      "Epoch 42, CIFAR-10 Batch 2:  Training Loss = 0.0018429  Validation Accuracy = 0.7681999\n",
      "Epoch 42, CIFAR-10 Batch 3:  Training Loss = 0.0027192  Validation Accuracy = 0.7575998\n",
      "Epoch 42, CIFAR-10 Batch 4:  Training Loss = 0.0044034  Validation Accuracy = 0.7571999\n",
      "Epoch 42, CIFAR-10 Batch 5:  Training Loss = 0.0048909  Validation Accuracy = 0.7597998\n",
      "Epoch 43, CIFAR-10 Batch 1:  Training Loss = 0.0057561  Validation Accuracy = 0.7579998\n",
      "Epoch 43, CIFAR-10 Batch 2:  Training Loss = 0.0026643  Validation Accuracy = 0.7523999\n",
      "Epoch 43, CIFAR-10 Batch 3:  Training Loss = 0.0032380  Validation Accuracy = 0.7543999\n",
      "Epoch 43, CIFAR-10 Batch 4:  Training Loss = 0.0025268  Validation Accuracy = 0.7551998\n",
      "Epoch 43, CIFAR-10 Batch 5:  Training Loss = 0.0013693  Validation Accuracy = 0.7659999\n",
      "Epoch 44, CIFAR-10 Batch 1:  Training Loss = 0.0020347  Validation Accuracy = 0.7641999\n",
      "Epoch 44, CIFAR-10 Batch 2:  Training Loss = 0.0028837  Validation Accuracy = 0.7615998\n",
      "Epoch 44, CIFAR-10 Batch 3:  Training Loss = 0.0015359  Validation Accuracy = 0.7625998\n",
      "Epoch 44, CIFAR-10 Batch 4:  Training Loss = 0.0025202  Validation Accuracy = 0.7593998\n",
      "Epoch 44, CIFAR-10 Batch 5:  Training Loss = 0.0010531  Validation Accuracy = 0.7599999\n",
      "Epoch 45, CIFAR-10 Batch 1:  Training Loss = 0.0010803  Validation Accuracy = 0.7649998\n",
      "Epoch 45, CIFAR-10 Batch 2:  Training Loss = 0.0034292  Validation Accuracy = 0.7449998\n",
      "Epoch 45, CIFAR-10 Batch 3:  Training Loss = 0.0017111  Validation Accuracy = 0.7615999\n",
      "Epoch 45, CIFAR-10 Batch 4:  Training Loss = 0.0009927  Validation Accuracy = 0.7637998\n",
      "Epoch 45, CIFAR-10 Batch 5:  Training Loss = 0.0017847  Validation Accuracy = 0.7579999\n",
      "Epoch 46, CIFAR-10 Batch 1:  Training Loss = 0.0013327  Validation Accuracy = 0.7581998\n",
      "Epoch 46, CIFAR-10 Batch 2:  Training Loss = 0.0033982  Validation Accuracy = 0.7591998\n",
      "Epoch 46, CIFAR-10 Batch 3:  Training Loss = 0.0037818  Validation Accuracy = 0.7581998\n",
      "Epoch 46, CIFAR-10 Batch 4:  Training Loss = 0.0016946  Validation Accuracy = 0.7641999\n",
      "Epoch 46, CIFAR-10 Batch 5:  Training Loss = 0.0018357  Validation Accuracy = 0.7581998\n",
      "Epoch 47, CIFAR-10 Batch 1:  Training Loss = 0.0014786  Validation Accuracy = 0.7601998\n",
      "Epoch 47, CIFAR-10 Batch 2:  Training Loss = 0.0012707  Validation Accuracy = 0.7625998\n",
      "Epoch 47, CIFAR-10 Batch 3:  Training Loss = 0.0018214  Validation Accuracy = 0.7701999\n",
      "Epoch 47, CIFAR-10 Batch 4:  Training Loss = 0.0043971  Validation Accuracy = 0.7697998\n",
      "Epoch 47, CIFAR-10 Batch 5:  Training Loss = 0.0061395  Validation Accuracy = 0.7581999\n",
      "Epoch 48, CIFAR-10 Batch 1:  Training Loss = 0.0064367  Validation Accuracy = 0.7511998\n",
      "Epoch 48, CIFAR-10 Batch 2:  Training Loss = 0.0015486  Validation Accuracy = 0.7463999\n",
      "Epoch 48, CIFAR-10 Batch 3:  Training Loss = 0.0037385  Validation Accuracy = 0.7453999\n",
      "Epoch 48, CIFAR-10 Batch 4:  Training Loss = 0.0016787  Validation Accuracy = 0.7665999\n",
      "Epoch 48, CIFAR-10 Batch 5:  Training Loss = 0.0037211  Validation Accuracy = 0.7583998\n",
      "Epoch 49, CIFAR-10 Batch 1:  Training Loss = 0.0014246  Validation Accuracy = 0.7541999\n",
      "Epoch 49, CIFAR-10 Batch 2:  Training Loss = 0.0050476  Validation Accuracy = 0.7595998\n",
      "Epoch 49, CIFAR-10 Batch 3:  Training Loss = 0.0013430  Validation Accuracy = 0.7531998\n",
      "Epoch 49, CIFAR-10 Batch 4:  Training Loss = 0.0021811  Validation Accuracy = 0.7709998\n",
      "Epoch 49, CIFAR-10 Batch 5:  Training Loss = 0.0010780  Validation Accuracy = 0.7605998\n",
      "Epoch 50, CIFAR-10 Batch 1:  Training Loss = 0.0027019  Validation Accuracy = 0.7605999\n",
      "Epoch 50, CIFAR-10 Batch 2:  Training Loss = 0.0042361  Validation Accuracy = 0.7389998\n",
      "Epoch 50, CIFAR-10 Batch 3:  Training Loss = 0.0049530  Validation Accuracy = 0.7513998\n",
      "Epoch 50, CIFAR-10 Batch 4:  Training Loss = 0.0037302  Validation Accuracy = 0.7591998\n",
      "Epoch 50, CIFAR-10 Batch 5:  Training Loss = 0.0015209  Validation Accuracy = 0.7651998\n"
     ]
    }
   ],
   "source": [
    "\"\"\"\n",
    "DON'T MODIFY ANYTHING IN THIS CELL\n",
    "\"\"\"\n",
    "save_model_path = './image_classification'\n",
    "\n",
    "print('Training...')\n",
    "with tf.Session() as sess:\n",
    "    # Initializing the variables\n",
    "    sess.run(tf.global_variables_initializer())\n",
    "    \n",
    "    # Training cycle\n",
    "    for epoch in range(epochs):\n",
    "        # Loop over all batches\n",
    "        n_batches = 5\n",
    "        for batch_i in range(1, n_batches + 1):\n",
    "            for batch_features, batch_labels in helper.load_preprocess_training_batch(batch_i, batch_size):\n",
    "                train_neural_network(sess, optimizer, keep_probability, batch_features, batch_labels)\n",
    "            print('Epoch {:>2}, CIFAR-10 Batch {}:  '.format(epoch + 1, batch_i), end='')\n",
    "            print_stats(sess, batch_features, batch_labels, cost, accuracy)\n",
    "            \n",
    "    # Save Model\n",
    "    saver = tf.train.Saver()\n",
    "    save_path = saver.save(sess, save_model_path)"
   ]
  },
  {
   "cell_type": "markdown",
   "metadata": {
    "deletable": true,
    "editable": true
   },
   "source": [
    "# Checkpoint\n",
    "The model has been saved to disk.\n",
    "## Test Model\n",
    "Test your model against the test dataset.  This will be your final accuracy. You should have an accuracy greater than 50%. If you don't, keep tweaking the model architecture and parameters."
   ]
  },
  {
   "cell_type": "code",
   "execution_count": 26,
   "metadata": {
    "collapsed": false,
    "deletable": true,
    "editable": true
   },
   "outputs": [
    {
     "name": "stdout",
     "output_type": "stream",
     "text": [
      "Testing Accuracy: 0.7567842364311218\n",
      "\n"
     ]
    },
    {
     "data": {
      "image/png": "[encoded data removed]",
      "text/plain": [
       "<matplotlib.figure.Figure at 0x7f5589528f60>"
      ]
     },
     "metadata": {
      "image/png": {
       "height": 319,
       "width": 349
      }
     },
     "output_type": "display_data"
    }
   ],
   "source": [
    "\"\"\"\n",
    "DON'T MODIFY ANYTHING IN THIS CELL\n",
    "\"\"\"\n",
    "%matplotlib inline\n",
    "%config InlineBackend.figure_format = 'retina'\n",
    "\n",
    "import tensorflow as tf\n",
    "import pickle\n",
    "import helper\n",
    "import random\n",
    "\n",
    "# Set batch size if not already set\n",
    "try:\n",
    "    if batch_size:\n",
    "        pass\n",
    "except NameError:\n",
    "    batch_size = 64\n",
    "\n",
    "save_model_path = './image_classification'\n",
    "n_samples = 4\n",
    "top_n_predictions = 3\n",
    "\n",
    "def test_model():\n",
    "    \"\"\"\n",
    "    Test the saved model against the test dataset\n",
    "    \"\"\"\n",
    "\n",
    "    test_features, test_labels = pickle.load(open('preprocess_training.p', mode='rb'))\n",
    "    loaded_graph = tf.Graph()\n",
    "\n",
    "    with tf.Session(graph=loaded_graph) as sess:\n",
    "        # Load model\n",
    "        loader = tf.train.import_meta_graph(save_model_path + '.meta')\n",
    "        loader.restore(sess, save_model_path)\n",
    "\n",
    "        # Get Tensors from loaded model\n",
    "        loaded_x = loaded_graph.get_tensor_by_name('x:0')\n",
    "        loaded_y = loaded_graph.get_tensor_by_name('y:0')\n",
    "        loaded_keep_prob = loaded_graph.get_tensor_by_name('keep_prob:0')\n",
    "        loaded_logits = loaded_graph.get_tensor_by_name('logits:0')\n",
    "        loaded_acc = loaded_graph.get_tensor_by_name('accuracy:0')\n",
    "        \n",
    "        # Get accuracy in batches for memory limitations\n",
    "        test_batch_acc_total = 0\n",
    "        test_batch_count = 0\n",
    "        \n",
    "        for train_feature_batch, train_label_batch in helper.batch_features_labels(test_features, test_labels, batch_size):\n",
    "            test_batch_acc_total += sess.run(\n",
    "                loaded_acc,\n",
    "                feed_dict={loaded_x: train_feature_batch, loaded_y: train_label_batch, loaded_keep_prob: 1.0})\n",
    "            test_batch_count += 1\n",
    "\n",
    "        print('Testing Accuracy: {}\\n'.format(test_batch_acc_total/test_batch_count))\n",
    "\n",
    "        # Print Random Samples\n",
    "        random_test_features, random_test_labels = tuple(zip(*random.sample(list(zip(test_features, test_labels)), n_samples)))\n",
    "        random_test_predictions = sess.run(\n",
    "            tf.nn.top_k(tf.nn.softmax(loaded_logits), top_n_predictions),\n",
    "            feed_dict={loaded_x: random_test_features, loaded_y: random_test_labels, loaded_keep_prob: 1.0})\n",
    "        helper.display_image_predictions(random_test_features, random_test_labels, random_test_predictions)\n",
    "\n",
    "\n",
    "test_model()"
   ]
  },
  {
   "cell_type": "markdown",
   "metadata": {
    "deletable": true,
    "editable": true
   },
   "source": [
    "## Why 50-70% Accuracy?\n",
    "You might be wondering why you can't get an accuracy any higher. First things first, 50% isn't bad for a simple CNN.  Pure guessing would get you 10% accuracy. However, you might notice people are getting scores [well above 70%](http://rodrigob.github.io/are_we_there_yet/build/classification_datasets_results.html#43494641522d3130).  That's because we haven't taught you all there is to know about neural networks. We still need to cover a few more techniques.\n",
    "## Submitting This Project\n",
    "When submitting this project, make sure to run all the cells before saving the notebook.  Save the notebook file as \"dlnd_image_classification.ipynb\" and save it as a HTML file under \"File\" -> \"Download as\".  Include the \"helper.py\" and \"problem_unittests.py\" files in your submission."
   ]
  }
 ],
 "metadata": {
  "kernelspec": {
   "display_name": "Python 3",
   "language": "python",
   "name": "python3"
  },
  "language_info": {
   "codemirror_mode": {
    "name": "ipython",
    "version": 3
   },
   "file_extension": ".py",
   "mimetype": "text/x-python",
   "name": "python",
   "nbconvert_exporter": "python",
   "pygments_lexer": "ipython3",
   "version": "3.5.3"
  }
 },
 "nbformat": 4,
 "nbformat_minor": 1
}
